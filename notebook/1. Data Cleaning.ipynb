{
 "cells": [
  {
   "cell_type": "code",
   "execution_count": 1,
   "metadata": {},
   "outputs": [],
   "source": [
    "import pandas as pd\n",
    "import matplotlib.pyplot as plt\n",
    "import numpy as np\n",
    "import re\n",
    "import seaborn as sns"
   ]
  },
  {
   "cell_type": "markdown",
   "metadata": {},
   "source": [
    "## Load the dataset"
   ]
  },
  {
   "cell_type": "code",
   "execution_count": 2,
   "metadata": {},
   "outputs": [],
   "source": [
    "df = pd.read_csv('../data/raw/srcsc-2025-dam-data-for-students.csv')"
   ]
  },
  {
   "cell_type": "markdown",
   "metadata": {},
   "source": [
    "## Rename features"
   ]
  },
  {
   "cell_type": "code",
   "execution_count": 3,
   "metadata": {},
   "outputs": [],
   "source": [
    "def general_rename(str):\n",
    "    return str.lower().replace(' ', '_')"
   ]
  },
  {
   "cell_type": "code",
   "execution_count": 4,
   "metadata": {},
   "outputs": [],
   "source": [
    "renamed_df = df.rename(columns=general_rename).rename(columns={\n",
    "    'height_(m)': 'height',\n",
    "    'length_(km)': 'length',\n",
    "    'volume_(m3)': 'volume',\n",
    "    'surface_(km2)': 'surface',\n",
    "    'drainage_(km2)': 'drainage',\n",
    "    'distance_to_nearest_city_(km)': 'distance_to_nearest_city',\n",
    "    'loss_given_failure_-_prop_(qm)': 'dam_repair_loss',\n",
    "    'loss_given_failure_-_liab_(qm)': 'damage_loss',\n",
    "    'loss_given_failure_-_bi_(qm)': 'business_interruption_loss'\n",
    "})"
   ]
  },
  {
   "cell_type": "markdown",
   "metadata": {},
   "source": [
    "## Feature Engineering"
   ]
  },
  {
   "cell_type": "markdown",
   "metadata": {},
   "source": [
    "#### years_completed"
   ]
  },
  {
   "cell_type": "code",
   "execution_count": 5,
   "metadata": {},
   "outputs": [],
   "source": [
    "# calculate the dam age\n",
    "renamed_df['age'] = 2025 - renamed_df['year_completed']"
   ]
  },
  {
   "cell_type": "markdown",
   "metadata": {},
   "source": [
    "#### years_modified"
   ]
  },
  {
   "cell_type": "code",
   "execution_count": 6,
   "metadata": {},
   "outputs": [],
   "source": [
    "#calculate the length of given list\n",
    "def list_len(list):\n",
    "    if list == 0:\n",
    "        return 0\n",
    "    return len(set(list))\n",
    "\n",
    "modification_pattern = r'(\\d{4})'\n",
    "# count the number of unique modifications\n",
    "renamed_df['modification_count'] = renamed_df['years_modified'].str.findall(pat=modification_pattern).fillna(0).apply(list_len)"
   ]
  },
  {
   "cell_type": "code",
   "execution_count": 7,
   "metadata": {},
   "outputs": [],
   "source": [
    "# convert all elements in the list to integer and calcualte the difference between 2025 and max value in the list\n",
    "def years_from_cal(list):\n",
    "    if list == -1:\n",
    "        return list\n",
    "    list = [int(i) for i in list]\n",
    "    list.sort()\n",
    "    return 2025 - list[-1]\n",
    "\n",
    "# calculate the years taken from last modification\n",
    "renamed_df['years_from_modification'] = renamed_df['years_modified'].str.findall(modification_pattern).fillna(-1).apply(years_from_cal)\n",
    "# fill null value with dam age\n",
    "renamed_df['years_from_modification'] = renamed_df['years_from_modification'].where(cond=renamed_df['years_from_modification'] != -1, other=renamed_df['age'])\n"
   ]
  },
  {
   "cell_type": "markdown",
   "metadata": {},
   "source": [
    "#### last_inspection_date"
   ]
  },
  {
   "cell_type": "code",
   "execution_count": 8,
   "metadata": {},
   "outputs": [],
   "source": [
    "# Calculate the years taken from last inspection\n",
    "renamed_df['years_from_inspection'] = renamed_df['last_inspection_date'].str.findall(r'\\d{2}/\\d{2}/(\\d{4})').fillna(-1).apply(years_from_cal)\n",
    "# fill null value with the dam age\n",
    "renamed_df['years_from_inspection'] = renamed_df['years_from_inspection'].where(cond=renamed_df['years_from_inspection'] != -1, other=renamed_df['age'])\n"
   ]
  },
  {
   "cell_type": "markdown",
   "metadata": {},
   "source": [
    "#### inspection_frequency"
   ]
  },
  {
   "cell_type": "code",
   "execution_count": 9,
   "metadata": {},
   "outputs": [],
   "source": [
    "# fill na with mode category: 0\n",
    "renamed_df['inspection_frequency'] = renamed_df['inspection_frequency'].fillna(0)\n",
    "renamed_df['inspection_frequency'] = renamed_df['inspection_frequency'].apply(lambda x: 1/x if x != 0 else 0)"
   ]
  },
  {
   "cell_type": "markdown",
   "metadata": {},
   "source": [
    "#### assessment_date"
   ]
  },
  {
   "cell_type": "code",
   "execution_count": 10,
   "metadata": {},
   "outputs": [],
   "source": [
    "# Calculate the years taken from last inspection\n",
    "renamed_df['years_from_assessment'] = renamed_df['assessment_date'].str.findall(r'\\d{2}/\\d{2}/(\\d{4})').fillna(-1).apply(years_from_cal)\n",
    "# fill null value with the dam age\n",
    "renamed_df['years_from_assessment'] = renamed_df['years_from_assessment'].where(cond=renamed_df['years_from_assessment'] != -1, other=renamed_df['age'])\n"
   ]
  },
  {
   "cell_type": "code",
   "execution_count": 11,
   "metadata": {},
   "outputs": [],
   "source": [
    "# drop used features\n",
    "engineered_df = renamed_df.drop(columns=['years_modified', 'last_inspection_date', 'year_completed', 'assessment_date'])"
   ]
  },
  {
   "cell_type": "markdown",
   "metadata": {},
   "source": [
    "## Impute outliers"
   ]
  },
  {
   "cell_type": "code",
   "execution_count": 12,
   "metadata": {},
   "outputs": [
    {
     "data": {
      "text/plain": [
       "'\\ndef impute_outliers(df, feature):\\n    # calculate IQR\\n    Q1 = df[feature].quantile(0.25)\\n    Q3 = df[feature].quantile(0.75)\\n    IQR = Q3 - Q1\\n    lower = Q1 - 1.5*IQR\\n    upper = Q3 + 1.5*IQR\\n    # calculate median without outliers\\n    removed_df = df[(df[feature] >= lower) & (df[feature] <= upper)]\\n    new_median = removed_df[feature].median()\\n    # impute outliers with median calculated\\n    df.loc[(df[feature] < lower) | (df[feature] > upper), feature] = new_median\\n    return\\n'"
      ]
     },
     "execution_count": 12,
     "metadata": {},
     "output_type": "execute_result"
    }
   ],
   "source": [
    "# impute outliers with median of outlier-removed dataframe\n",
    "'''\n",
    "def impute_outliers(df, feature):\n",
    "    # calculate IQR\n",
    "    Q1 = df[feature].quantile(0.25)\n",
    "    Q3 = df[feature].quantile(0.75)\n",
    "    IQR = Q3 - Q1\n",
    "    lower = Q1 - 1.5*IQR\n",
    "    upper = Q3 + 1.5*IQR\n",
    "    # calculate median without outliers\n",
    "    removed_df = df[(df[feature] >= lower) & (df[feature] <= upper)]\n",
    "    new_median = removed_df[feature].median()\n",
    "    # impute outliers with median calculated\n",
    "    df.loc[(df[feature] < lower) | (df[feature] > upper), feature] = new_median\n",
    "    return\n",
    "'''"
   ]
  },
  {
   "cell_type": "code",
   "execution_count": 13,
   "metadata": {},
   "outputs": [
    {
     "data": {
      "text/plain": [
       "\"\\n# impute outliers with median\\nfor feature in ['length', 'volume', 'surface', 'drainage']:\\n    impute_outliers(engineered_df, feature)\\noutliers_imputed_df = engineered_df\\n\""
      ]
     },
     "execution_count": 13,
     "metadata": {},
     "output_type": "execute_result"
    }
   ],
   "source": [
    "for feature in ['length', 'volume', 'height', 'surface', 'drainage']:\n",
    "    engineered_df[feature] = engineered_df[feature].replace(0, np.nan)\n",
    "'''\n",
    "# impute outliers with median\n",
    "for feature in ['length', 'volume', 'surface', 'drainage']:\n",
    "    impute_outliers(engineered_df, feature)\n",
    "outliers_imputed_df = engineered_df\n",
    "'''"
   ]
  },
  {
   "cell_type": "code",
   "execution_count": 14,
   "metadata": {},
   "outputs": [],
   "source": [
    "outliers_imputed_df = engineered_df"
   ]
  },
  {
   "cell_type": "markdown",
   "metadata": {},
   "source": [
    "## Handle Missing Data"
   ]
  },
  {
   "cell_type": "code",
   "execution_count": 15,
   "metadata": {},
   "outputs": [
    {
     "name": "stdout",
     "output_type": "stream",
     "text": [
      "primary_purpose : 1184  5.69%\n",
      "primary_type : 257  1.24%\n",
      "height : 24  0.12%\n",
      "length : 2925  14.06%\n",
      "volume : 12838  61.7%\n",
      "surface : 4668  22.44%\n",
      "drainage : 7671  36.87%\n",
      "spillway : 12786  61.45%\n",
      "distance_to_nearest_city : 10229  49.16%\n",
      "assessment : 2537  12.19%\n",
      "dam_repair_loss : 7  0.03%\n",
      "damage_loss : 12  0.06%\n",
      "business_interruption_loss : 10730  51.57%\n",
      "age : 1384  6.65%\n",
      "years_from_modification : 1284  6.17%\n",
      "years_from_inspection : 659  3.17%\n",
      "years_from_assessment : 785  3.77%\n"
     ]
    }
   ],
   "source": [
    "for feature in outliers_imputed_df.columns:\n",
    "    if outliers_imputed_df[feature].isna().sum() > 0:\n",
    "        print(f'{feature} : {outliers_imputed_df[feature].isna().sum()}  {round(outliers_imputed_df[feature].isna().sum()/len(outliers_imputed_df)*100, 2)}%')\n"
   ]
  },
  {
   "cell_type": "markdown",
   "metadata": {},
   "source": [
    "#### numerical features"
   ]
  },
  {
   "cell_type": "code",
   "execution_count": 16,
   "metadata": {},
   "outputs": [],
   "source": [
    "for feature in ['height', 'length', 'volume', 'surface', 'drainage', 'distance_to_nearest_city', 'age', 'years_from_modification', 'years_from_inspection', 'years_from_assessment']:\n",
    "    outliers_imputed_df[feature] = outliers_imputed_df[feature].fillna(outliers_imputed_df[feature].median())"
   ]
  },
  {
   "cell_type": "markdown",
   "metadata": {},
   "source": [
    "#### categorical_feature"
   ]
  },
  {
   "cell_type": "code",
   "execution_count": 17,
   "metadata": {},
   "outputs": [],
   "source": [
    "# fill null with NA\n",
    "for feature in ['primary_purpose', 'spillway']:\n",
    "    outliers_imputed_df[feature] = outliers_imputed_df[feature].fillna('No Rocord')\n",
    "\n",
    "# fill null with mode category\n",
    "for feature in ['primary_type', 'assessment']:\n",
    "    outliers_imputed_df[feature] = outliers_imputed_df[feature].fillna(outliers_imputed_df[feature].mode()[0])"
   ]
  },
  {
   "cell_type": "markdown",
   "metadata": {},
   "source": [
    "## Save dataset"
   ]
  },
  {
   "cell_type": "code",
   "execution_count": 18,
   "metadata": {},
   "outputs": [],
   "source": [
    "outliers_imputed_df.to_csv('../data/curated/visulisation_df.csv', index=False)"
   ]
  },
  {
   "cell_type": "code",
   "execution_count": null,
   "metadata": {},
   "outputs": [],
   "source": []
  }
 ],
 "metadata": {
  "kernelspec": {
   "display_name": "pt_gpu",
   "language": "python",
   "name": "python3"
  },
  "language_info": {
   "codemirror_mode": {
    "name": "ipython",
    "version": 3
   },
   "file_extension": ".py",
   "mimetype": "text/x-python",
   "name": "python",
   "nbconvert_exporter": "python",
   "pygments_lexer": "ipython3",
   "version": "3.10.16"
  }
 },
 "nbformat": 4,
 "nbformat_minor": 2
}
