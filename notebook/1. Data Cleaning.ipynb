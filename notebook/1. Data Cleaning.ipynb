{
 "cells": [
  {
   "cell_type": "code",
   "execution_count": 2,
   "metadata": {},
   "outputs": [],
   "source": [
    "import pandas as pd\n",
    "import matplotlib.pyplot as plt\n",
    "import numpy as np\n",
    "import re\n",
    "import seaborn as sns"
   ]
  },
  {
   "cell_type": "markdown",
   "metadata": {},
   "source": [
    "## Load the dataset"
   ]
  },
  {
   "cell_type": "code",
   "execution_count": 3,
   "metadata": {},
   "outputs": [],
   "source": [
    "df = pd.read_csv('../data/raw/srcsc-2025-dam-data-for-students.csv')"
   ]
  },
  {
   "cell_type": "markdown",
   "metadata": {},
   "source": [
    "## Rename features"
   ]
  },
  {
   "cell_type": "code",
   "execution_count": 4,
   "metadata": {},
   "outputs": [],
   "source": [
    "def general_rename(str):\n",
    "    return str.lower().replace(' ', '_')"
   ]
  },
  {
   "cell_type": "code",
   "execution_count": 5,
   "metadata": {},
   "outputs": [],
   "source": [
    "renamed_df = df.rename(columns=general_rename).rename(columns={\n",
    "    'height_(m)': 'height',\n",
    "    'length_(km)': 'length',\n",
    "    'volume_(m3)': 'volume',\n",
    "    'surface_(km2)': 'surface',\n",
    "    'drainage_(km2)': 'drainage',\n",
    "    'distance_to_nearest_city_(km)': 'distance_to_nearest_city',\n",
    "    'loss_given_failure_-_prop_(qm)': 'dam_repair_loss',\n",
    "    'loss_given_failure_-_liab_(qm)': 'damage_loss',\n",
    "    'loss_given_failure_-_bi_(qm)': 'business_interruption_loss'\n",
    "})"
   ]
  },
  {
   "cell_type": "markdown",
   "metadata": {},
   "source": [
    "## Feature Engineering"
   ]
  },
  {
   "cell_type": "markdown",
   "metadata": {},
   "source": [
    "#### years_completed"
   ]
  },
  {
   "cell_type": "code",
   "execution_count": 6,
   "metadata": {},
   "outputs": [],
   "source": [
    "# calculate the dam age\n",
    "renamed_df['age'] = 2025 - renamed_df['year_completed']"
   ]
  },
  {
   "cell_type": "markdown",
   "metadata": {},
   "source": [
    "#### years_modified"
   ]
  },
  {
   "cell_type": "code",
   "execution_count": 7,
   "metadata": {},
   "outputs": [],
   "source": [
    "#calculate the length of given list\n",
    "def list_len(list):\n",
    "    if list == 0:\n",
    "        return 0\n",
    "    return len(set(list))\n",
    "\n",
    "modification_pattern = r'(\\d{4})'\n",
    "# count the number of unique modifications\n",
    "renamed_df['modify_count'] = renamed_df['years_modified'].str.findall(pat=modification_pattern).fillna(0).apply(list_len)"
   ]
  },
  {
   "cell_type": "code",
   "execution_count": 8,
   "metadata": {},
   "outputs": [],
   "source": [
    "# convert all elements in the list to integer and calcualte the difference between 2025 and max value in the list\n",
    "def years_from_cal(list):\n",
    "    if list == -1:\n",
    "        return list\n",
    "    list = [int(i) for i in list]\n",
    "    list.sort()\n",
    "    return 2025 - list[-1]\n",
    "\n",
    "# calculate the years taken from last modification\n",
    "renamed_df['years_from_modification'] = renamed_df['years_modified'].str.findall(modification_pattern).fillna(-1).apply(years_from_cal)\n",
    "# fill null value with dam age\n",
    "renamed_df['years_from_modification'] = renamed_df['years_from_modification'].where(cond=renamed_df['years_from_modification'] != -1, other=renamed_df['age'])\n"
   ]
  },
  {
   "cell_type": "markdown",
   "metadata": {},
   "source": [
    "#### last_inspection_date"
   ]
  },
  {
   "cell_type": "code",
   "execution_count": 9,
   "metadata": {},
   "outputs": [],
   "source": [
    "# Calculate the years taken from last inspection\n",
    "renamed_df['years_from_inspection'] = renamed_df['last_inspection_date'].str.findall(r'\\d{2}/\\d{2}/(\\d{4})').fillna(-1).apply(years_from_cal)\n",
    "# fill null value with the dam age\n",
    "renamed_df['years_from_inspection'] = renamed_df['years_from_inspection'].where(cond=renamed_df['years_from_inspection'] != -1, other=renamed_df['age'])\n"
   ]
  },
  {
   "cell_type": "markdown",
   "metadata": {},
   "source": [
    "#### inspection_frequency"
   ]
  },
  {
   "cell_type": "code",
   "execution_count": 10,
   "metadata": {},
   "outputs": [],
   "source": [
    "# fill na with mode category: 0\n",
    "renamed_df['inspection_frequency'] = renamed_df['inspection_frequency'].fillna(0)\n",
    "renamed_df['inspection_frequency'] = renamed_df['inspection_frequency'].apply(lambda x: 1/x if x != 0 else 0)"
   ]
  },
  {
   "cell_type": "markdown",
   "metadata": {},
   "source": [
    "#### assessment_date"
   ]
  },
  {
   "cell_type": "code",
   "execution_count": 11,
   "metadata": {},
   "outputs": [],
   "source": [
    "# Calculate the years taken from last inspection\n",
    "renamed_df['years_from_assessment'] = renamed_df['assessment_date'].str.findall(r'\\d{2}/\\d{2}/(\\d{4})').fillna(-1).apply(years_from_cal)\n",
    "# fill null value with the dam age\n",
    "renamed_df['years_from_assessment'] = renamed_df['years_from_assessment'].where(cond=renamed_df['years_from_assessment'] != -1, other=renamed_df['age'])\n"
   ]
  },
  {
   "cell_type": "code",
   "execution_count": 12,
   "metadata": {},
   "outputs": [],
   "source": [
    "# drop used features\n",
    "engineered_df = renamed_df.drop(columns=['years_modified', 'last_inspection_date', 'year_completed', 'assessment_date'])"
   ]
  },
  {
   "cell_type": "markdown",
   "metadata": {},
   "source": [
    "## Impute outliers"
   ]
  },
  {
   "cell_type": "code",
   "execution_count": 13,
   "metadata": {},
   "outputs": [],
   "source": [
    "# impute outliers with median of outlier-removed dataframe\n",
    "def impute_outliers(df, feature):\n",
    "    # calculate IQR\n",
    "    Q1 = df[feature].quantile(0.25)\n",
    "    Q3 = df[feature].quantile(0.75)\n",
    "    IQR = Q3 - Q1\n",
    "    lower = Q1 - 1.5*IQR\n",
    "    upper = Q3 + 1.5*IQR\n",
    "    # calculate median without outliers\n",
    "    removed_df = df[(df[feature] >= lower) & (df[feature] <= upper)]\n",
    "    new_median = removed_df[feature].median()\n",
    "    # impute outliers with median calculated\n",
    "    df.loc[(df[feature] < lower) | (df[feature] > upper), feature] = new_median\n",
    "    return"
   ]
  },
  {
   "cell_type": "code",
   "execution_count": 14,
   "metadata": {},
   "outputs": [],
   "source": [
    "for feature in ['length', 'volume', 'surface', 'drainage']:\n",
    "    engineered_df[feature] = engineered_df[feature].replace(0, np.nan)\n",
    "\n",
    "# impute outliers with median\n",
    "for feature in ['length', 'volume', 'surface', 'drainage']:\n",
    "    impute_outliers(engineered_df, feature)\n",
    "outliers_imputed_df = engineered_df"
   ]
  },
  {
   "cell_type": "markdown",
   "metadata": {},
   "source": [
    "## Handle Missing Data"
   ]
  },
  {
   "cell_type": "code",
   "execution_count": 15,
   "metadata": {},
   "outputs": [
    {
     "name": "stdout",
     "output_type": "stream",
     "text": [
      "primary_purpose : 1184  5.69%\n",
      "primary_type : 257  1.24%\n",
      "length : 2925  14.06%\n",
      "volume : 12838  61.7%\n",
      "surface : 4668  22.44%\n",
      "drainage : 7671  36.87%\n",
      "spillway : 12786  61.45%\n",
      "distance_to_nearest_city : 10229  49.16%\n",
      "assessment : 2537  12.19%\n",
      "dam_repair_loss : 7  0.03%\n",
      "damage_loss : 12  0.06%\n",
      "business_interruption_loss : 10730  51.57%\n",
      "age : 1384  6.65%\n",
      "years_from_modification : 1284  6.17%\n",
      "years_from_inspection : 659  3.17%\n",
      "years_from_assessment : 785  3.77%\n"
     ]
    }
   ],
   "source": [
    "for feature in outliers_imputed_df.columns:\n",
    "    if engineered_df[feature].isna().sum() > 0:\n",
    "        print(f'{feature} : {outliers_imputed_df[feature].isna().sum()}  {round(outliers_imputed_df[feature].isna().sum()/len(outliers_imputed_df)*100, 2)}%')\n"
   ]
  },
  {
   "cell_type": "markdown",
   "metadata": {},
   "source": [
    "#### numerical features"
   ]
  },
  {
   "cell_type": "code",
   "execution_count": 16,
   "metadata": {},
   "outputs": [],
   "source": [
    "for feature in ['length', 'volume', 'surface', 'drainage', 'distance_to_nearest_city', 'age', 'years_from_modification', 'years_from_inspection', 'years_from_assessment']:\n",
    "    outliers_imputed_df[feature] = outliers_imputed_df[feature].fillna(outliers_imputed_df[feature].median())"
   ]
  },
  {
   "cell_type": "markdown",
   "metadata": {},
   "source": [
    "#### categorical_feature"
   ]
  },
  {
   "cell_type": "code",
   "execution_count": 17,
   "metadata": {},
   "outputs": [],
   "source": [
    "# fill null with NA\n",
    "for feature in ['primary_purpose', 'spillway']:\n",
    "    outliers_imputed_df[feature] = outliers_imputed_df[feature].fillna('NA')\n",
    "\n",
    "# fill null with mode category\n",
    "for feature in ['primary_type', 'assessment']:\n",
    "    outliers_imputed_df[feature] = outliers_imputed_df[feature].fillna(outliers_imputed_df[feature].mode()[0])"
   ]
  },
  {
   "cell_type": "code",
   "execution_count": 18,
   "metadata": {},
   "outputs": [
    {
     "data": {
      "text/html": [
       "<div>\n",
       "<style scoped>\n",
       "    .dataframe tbody tr th:only-of-type {\n",
       "        vertical-align: middle;\n",
       "    }\n",
       "\n",
       "    .dataframe tbody tr th {\n",
       "        vertical-align: top;\n",
       "    }\n",
       "\n",
       "    .dataframe thead th {\n",
       "        text-align: right;\n",
       "    }\n",
       "</style>\n",
       "<table border=\"1\" class=\"dataframe\">\n",
       "  <thead>\n",
       "    <tr style=\"text-align: right;\">\n",
       "      <th></th>\n",
       "      <th>id</th>\n",
       "      <th>region</th>\n",
       "      <th>regulated_dam</th>\n",
       "      <th>primary_purpose</th>\n",
       "      <th>primary_type</th>\n",
       "      <th>height</th>\n",
       "      <th>length</th>\n",
       "      <th>volume</th>\n",
       "      <th>surface</th>\n",
       "      <th>drainage</th>\n",
       "      <th>...</th>\n",
       "      <th>assessment</th>\n",
       "      <th>probability_of_failure</th>\n",
       "      <th>dam_repair_loss</th>\n",
       "      <th>damage_loss</th>\n",
       "      <th>business_interruption_loss</th>\n",
       "      <th>age</th>\n",
       "      <th>modify_count</th>\n",
       "      <th>years_from_modification</th>\n",
       "      <th>years_from_inspection</th>\n",
       "      <th>years_from_assessment</th>\n",
       "    </tr>\n",
       "  </thead>\n",
       "  <tbody>\n",
       "    <tr>\n",
       "      <th>0</th>\n",
       "      <td>SOAD00072</td>\n",
       "      <td>Navaldia</td>\n",
       "      <td>Yes</td>\n",
       "      <td>Recreation</td>\n",
       "      <td>Earth</td>\n",
       "      <td>0.000</td>\n",
       "      <td>0.195</td>\n",
       "      <td>26000.0</td>\n",
       "      <td>0.02364</td>\n",
       "      <td>2.66329</td>\n",
       "      <td>...</td>\n",
       "      <td>Satisfactory</td>\n",
       "      <td>0.1258</td>\n",
       "      <td>20.8</td>\n",
       "      <td>296.9</td>\n",
       "      <td>8.1</td>\n",
       "      <td>61.0</td>\n",
       "      <td>0</td>\n",
       "      <td>59.0</td>\n",
       "      <td>10.0</td>\n",
       "      <td>11.0</td>\n",
       "    </tr>\n",
       "    <tr>\n",
       "      <th>1</th>\n",
       "      <td>SOAD00380</td>\n",
       "      <td>Navaldia</td>\n",
       "      <td>No</td>\n",
       "      <td>NA</td>\n",
       "      <td>Earth</td>\n",
       "      <td>2.713</td>\n",
       "      <td>0.195</td>\n",
       "      <td>26000.0</td>\n",
       "      <td>0.09456</td>\n",
       "      <td>39.94935</td>\n",
       "      <td>...</td>\n",
       "      <td>Not Available</td>\n",
       "      <td>0.0757</td>\n",
       "      <td>930.5</td>\n",
       "      <td>727.5</td>\n",
       "      <td>NaN</td>\n",
       "      <td>98.0</td>\n",
       "      <td>0</td>\n",
       "      <td>98.0</td>\n",
       "      <td>7.0</td>\n",
       "      <td>98.0</td>\n",
       "    </tr>\n",
       "    <tr>\n",
       "      <th>2</th>\n",
       "      <td>SOAD00610</td>\n",
       "      <td>Navaldia</td>\n",
       "      <td>Yes</td>\n",
       "      <td>Recreation</td>\n",
       "      <td>Earth</td>\n",
       "      <td>0.000</td>\n",
       "      <td>0.195</td>\n",
       "      <td>26000.0</td>\n",
       "      <td>0.09456</td>\n",
       "      <td>39.94935</td>\n",
       "      <td>...</td>\n",
       "      <td>Satisfactory</td>\n",
       "      <td>0.1375</td>\n",
       "      <td>355.5</td>\n",
       "      <td>427.3</td>\n",
       "      <td>8.6</td>\n",
       "      <td>61.0</td>\n",
       "      <td>0</td>\n",
       "      <td>59.0</td>\n",
       "      <td>34.0</td>\n",
       "      <td>11.0</td>\n",
       "    </tr>\n",
       "    <tr>\n",
       "      <th>3</th>\n",
       "      <td>SOAD00862</td>\n",
       "      <td>Navaldia</td>\n",
       "      <td>Yes</td>\n",
       "      <td>NA</td>\n",
       "      <td>Earth</td>\n",
       "      <td>0.000</td>\n",
       "      <td>0.195</td>\n",
       "      <td>26000.0</td>\n",
       "      <td>0.09456</td>\n",
       "      <td>39.94935</td>\n",
       "      <td>...</td>\n",
       "      <td>Not Rated</td>\n",
       "      <td>0.1403</td>\n",
       "      <td>295.1</td>\n",
       "      <td>25.3</td>\n",
       "      <td>NaN</td>\n",
       "      <td>61.0</td>\n",
       "      <td>0</td>\n",
       "      <td>59.0</td>\n",
       "      <td>34.0</td>\n",
       "      <td>11.0</td>\n",
       "    </tr>\n",
       "    <tr>\n",
       "      <th>4</th>\n",
       "      <td>SOAD02091</td>\n",
       "      <td>Lyndrassia</td>\n",
       "      <td>Yes</td>\n",
       "      <td>Recreation</td>\n",
       "      <td>Earth</td>\n",
       "      <td>13.921</td>\n",
       "      <td>0.200</td>\n",
       "      <td>26000.0</td>\n",
       "      <td>0.04728</td>\n",
       "      <td>39.94935</td>\n",
       "      <td>...</td>\n",
       "      <td>Not Rated</td>\n",
       "      <td>0.0998</td>\n",
       "      <td>11.5</td>\n",
       "      <td>203.0</td>\n",
       "      <td>5.6</td>\n",
       "      <td>44.0</td>\n",
       "      <td>0</td>\n",
       "      <td>44.0</td>\n",
       "      <td>4.0</td>\n",
       "      <td>44.0</td>\n",
       "    </tr>\n",
       "    <tr>\n",
       "      <th>...</th>\n",
       "      <td>...</td>\n",
       "      <td>...</td>\n",
       "      <td>...</td>\n",
       "      <td>...</td>\n",
       "      <td>...</td>\n",
       "      <td>...</td>\n",
       "      <td>...</td>\n",
       "      <td>...</td>\n",
       "      <td>...</td>\n",
       "      <td>...</td>\n",
       "      <td>...</td>\n",
       "      <td>...</td>\n",
       "      <td>...</td>\n",
       "      <td>...</td>\n",
       "      <td>...</td>\n",
       "      <td>...</td>\n",
       "      <td>...</td>\n",
       "      <td>...</td>\n",
       "      <td>...</td>\n",
       "      <td>...</td>\n",
       "      <td>...</td>\n",
       "    </tr>\n",
       "    <tr>\n",
       "      <th>20801</th>\n",
       "      <td>SOAD16536</td>\n",
       "      <td>Lyndrassia</td>\n",
       "      <td>No</td>\n",
       "      <td>Flood Risk Reduction</td>\n",
       "      <td>Rockfill</td>\n",
       "      <td>35.872</td>\n",
       "      <td>0.195</td>\n",
       "      <td>26000.0</td>\n",
       "      <td>0.09456</td>\n",
       "      <td>39.94935</td>\n",
       "      <td>...</td>\n",
       "      <td>Not Available</td>\n",
       "      <td>0.0837</td>\n",
       "      <td>820.9</td>\n",
       "      <td>510.6</td>\n",
       "      <td>NaN</td>\n",
       "      <td>47.0</td>\n",
       "      <td>0</td>\n",
       "      <td>47.0</td>\n",
       "      <td>2.0</td>\n",
       "      <td>47.0</td>\n",
       "    </tr>\n",
       "    <tr>\n",
       "      <th>20802</th>\n",
       "      <td>SOAD13145</td>\n",
       "      <td>Lyndrassia</td>\n",
       "      <td>No</td>\n",
       "      <td>Hydroelectric</td>\n",
       "      <td>Gravity</td>\n",
       "      <td>141.296</td>\n",
       "      <td>0.195</td>\n",
       "      <td>26000.0</td>\n",
       "      <td>0.09456</td>\n",
       "      <td>39.94935</td>\n",
       "      <td>...</td>\n",
       "      <td>Not Available</td>\n",
       "      <td>0.0795</td>\n",
       "      <td>850.2</td>\n",
       "      <td>176.6</td>\n",
       "      <td>62.9</td>\n",
       "      <td>52.0</td>\n",
       "      <td>0</td>\n",
       "      <td>52.0</td>\n",
       "      <td>5.0</td>\n",
       "      <td>52.0</td>\n",
       "    </tr>\n",
       "    <tr>\n",
       "      <th>20803</th>\n",
       "      <td>SOAD12688</td>\n",
       "      <td>Navaldia</td>\n",
       "      <td>No</td>\n",
       "      <td>Flood Risk Reduction</td>\n",
       "      <td>Earth</td>\n",
       "      <td>37.905</td>\n",
       "      <td>0.195</td>\n",
       "      <td>26000.0</td>\n",
       "      <td>0.09456</td>\n",
       "      <td>39.94935</td>\n",
       "      <td>...</td>\n",
       "      <td>Not Available</td>\n",
       "      <td>0.0972</td>\n",
       "      <td>922.4</td>\n",
       "      <td>490.6</td>\n",
       "      <td>NaN</td>\n",
       "      <td>71.0</td>\n",
       "      <td>0</td>\n",
       "      <td>71.0</td>\n",
       "      <td>3.0</td>\n",
       "      <td>71.0</td>\n",
       "    </tr>\n",
       "    <tr>\n",
       "      <th>20804</th>\n",
       "      <td>SOAD02340</td>\n",
       "      <td>Navaldia</td>\n",
       "      <td>No</td>\n",
       "      <td>Flood Risk Reduction</td>\n",
       "      <td>Earth</td>\n",
       "      <td>46.431</td>\n",
       "      <td>0.195</td>\n",
       "      <td>26000.0</td>\n",
       "      <td>0.09456</td>\n",
       "      <td>39.94935</td>\n",
       "      <td>...</td>\n",
       "      <td>Not Available</td>\n",
       "      <td>0.0672</td>\n",
       "      <td>652.4</td>\n",
       "      <td>603.7</td>\n",
       "      <td>NaN</td>\n",
       "      <td>60.0</td>\n",
       "      <td>0</td>\n",
       "      <td>60.0</td>\n",
       "      <td>4.0</td>\n",
       "      <td>60.0</td>\n",
       "    </tr>\n",
       "    <tr>\n",
       "      <th>20805</th>\n",
       "      <td>SOAD08788</td>\n",
       "      <td>Lyndrassia</td>\n",
       "      <td>No</td>\n",
       "      <td>Flood Risk Reduction</td>\n",
       "      <td>Earth</td>\n",
       "      <td>87.352</td>\n",
       "      <td>0.195</td>\n",
       "      <td>26000.0</td>\n",
       "      <td>0.09456</td>\n",
       "      <td>39.94935</td>\n",
       "      <td>...</td>\n",
       "      <td>Not Available</td>\n",
       "      <td>0.0929</td>\n",
       "      <td>804.2</td>\n",
       "      <td>134.9</td>\n",
       "      <td>NaN</td>\n",
       "      <td>85.0</td>\n",
       "      <td>0</td>\n",
       "      <td>85.0</td>\n",
       "      <td>6.0</td>\n",
       "      <td>85.0</td>\n",
       "    </tr>\n",
       "  </tbody>\n",
       "</table>\n",
       "<p>20806 rows × 24 columns</p>\n",
       "</div>"
      ],
      "text/plain": [
       "              id      region regulated_dam       primary_purpose primary_type  \\\n",
       "0      SOAD00072    Navaldia           Yes            Recreation        Earth   \n",
       "1      SOAD00380    Navaldia            No                    NA        Earth   \n",
       "2      SOAD00610    Navaldia           Yes            Recreation        Earth   \n",
       "3      SOAD00862    Navaldia           Yes                    NA        Earth   \n",
       "4      SOAD02091  Lyndrassia           Yes            Recreation        Earth   \n",
       "...          ...         ...           ...                   ...          ...   \n",
       "20801  SOAD16536  Lyndrassia            No  Flood Risk Reduction     Rockfill   \n",
       "20802  SOAD13145  Lyndrassia            No         Hydroelectric      Gravity   \n",
       "20803  SOAD12688    Navaldia            No  Flood Risk Reduction        Earth   \n",
       "20804  SOAD02340    Navaldia            No  Flood Risk Reduction        Earth   \n",
       "20805  SOAD08788  Lyndrassia            No  Flood Risk Reduction        Earth   \n",
       "\n",
       "        height  length   volume  surface  drainage  ...     assessment  \\\n",
       "0        0.000   0.195  26000.0  0.02364   2.66329  ...   Satisfactory   \n",
       "1        2.713   0.195  26000.0  0.09456  39.94935  ...  Not Available   \n",
       "2        0.000   0.195  26000.0  0.09456  39.94935  ...   Satisfactory   \n",
       "3        0.000   0.195  26000.0  0.09456  39.94935  ...      Not Rated   \n",
       "4       13.921   0.200  26000.0  0.04728  39.94935  ...      Not Rated   \n",
       "...        ...     ...      ...      ...       ...  ...            ...   \n",
       "20801   35.872   0.195  26000.0  0.09456  39.94935  ...  Not Available   \n",
       "20802  141.296   0.195  26000.0  0.09456  39.94935  ...  Not Available   \n",
       "20803   37.905   0.195  26000.0  0.09456  39.94935  ...  Not Available   \n",
       "20804   46.431   0.195  26000.0  0.09456  39.94935  ...  Not Available   \n",
       "20805   87.352   0.195  26000.0  0.09456  39.94935  ...  Not Available   \n",
       "\n",
       "       probability_of_failure  dam_repair_loss damage_loss  \\\n",
       "0                      0.1258             20.8       296.9   \n",
       "1                      0.0757            930.5       727.5   \n",
       "2                      0.1375            355.5       427.3   \n",
       "3                      0.1403            295.1        25.3   \n",
       "4                      0.0998             11.5       203.0   \n",
       "...                       ...              ...         ...   \n",
       "20801                  0.0837            820.9       510.6   \n",
       "20802                  0.0795            850.2       176.6   \n",
       "20803                  0.0972            922.4       490.6   \n",
       "20804                  0.0672            652.4       603.7   \n",
       "20805                  0.0929            804.2       134.9   \n",
       "\n",
       "      business_interruption_loss   age  modify_count  years_from_modification  \\\n",
       "0                            8.1  61.0             0                     59.0   \n",
       "1                            NaN  98.0             0                     98.0   \n",
       "2                            8.6  61.0             0                     59.0   \n",
       "3                            NaN  61.0             0                     59.0   \n",
       "4                            5.6  44.0             0                     44.0   \n",
       "...                          ...   ...           ...                      ...   \n",
       "20801                        NaN  47.0             0                     47.0   \n",
       "20802                       62.9  52.0             0                     52.0   \n",
       "20803                        NaN  71.0             0                     71.0   \n",
       "20804                        NaN  60.0             0                     60.0   \n",
       "20805                        NaN  85.0             0                     85.0   \n",
       "\n",
       "       years_from_inspection  years_from_assessment  \n",
       "0                       10.0                   11.0  \n",
       "1                        7.0                   98.0  \n",
       "2                       34.0                   11.0  \n",
       "3                       34.0                   11.0  \n",
       "4                        4.0                   44.0  \n",
       "...                      ...                    ...  \n",
       "20801                    2.0                   47.0  \n",
       "20802                    5.0                   52.0  \n",
       "20803                    3.0                   71.0  \n",
       "20804                    4.0                   60.0  \n",
       "20805                    6.0                   85.0  \n",
       "\n",
       "[20806 rows x 24 columns]"
      ]
     },
     "execution_count": 18,
     "metadata": {},
     "output_type": "execute_result"
    }
   ],
   "source": [
    "outliers_imputed_df"
   ]
  },
  {
   "cell_type": "markdown",
   "metadata": {},
   "source": [
    "### Visualisation"
   ]
  },
  {
   "cell_type": "code",
   "execution_count": 19,
   "metadata": {},
   "outputs": [],
   "source": [
    "def null_dropped_mean_plot(target_feature):\n",
    "    mean_list = []\n",
    "    null_feature_list = data.drop(columns=data.columns[data.isna().sum() == 0]).columns\n",
    "    for null_feature in null_feature_list:\n",
    "    # the mean value for target feature if null feature is dropped\n",
    "        current_mean = data[data[null_feature].isna()].describe()[target_feature].loc['mean']\n",
    "        mean_list.append(current_mean)\n",
    "    plt.figure(figsize=(40,10))\n",
    "    plt.bar(x=null_feature_list, height=mean_list, align='center', width=0.5)\n",
    "    plt.xlabel('Null Feature')\n",
    "    plt.ylabel(f'{target_feature} Mean')\n",
    "\n"
   ]
  },
  {
   "cell_type": "code",
   "execution_count": 20,
   "metadata": {},
   "outputs": [
    {
     "ename": "NameError",
     "evalue": "name 'data' is not defined",
     "output_type": "error",
     "traceback": [
      "\u001b[0;31m---------------------------------------------------------------------------\u001b[0m",
      "\u001b[0;31mNameError\u001b[0m                                 Traceback (most recent call last)",
      "Cell \u001b[0;32mIn[20], line 1\u001b[0m\n\u001b[0;32m----> 1\u001b[0m \u001b[43mnull_dropped_mean_plot\u001b[49m\u001b[43m(\u001b[49m\u001b[38;5;124;43m'\u001b[39;49m\u001b[38;5;124;43mDistance to Nearest City (km)\u001b[39;49m\u001b[38;5;124;43m'\u001b[39;49m\u001b[43m)\u001b[49m\n",
      "Cell \u001b[0;32mIn[19], line 3\u001b[0m, in \u001b[0;36mnull_dropped_mean_plot\u001b[0;34m(target_feature)\u001b[0m\n\u001b[1;32m      1\u001b[0m \u001b[38;5;28;01mdef\u001b[39;00m\u001b[38;5;250m \u001b[39m\u001b[38;5;21mnull_dropped_mean_plot\u001b[39m(target_feature):\n\u001b[1;32m      2\u001b[0m     mean_list \u001b[38;5;241m=\u001b[39m []\n\u001b[0;32m----> 3\u001b[0m     null_feature_list \u001b[38;5;241m=\u001b[39m \u001b[43mdata\u001b[49m\u001b[38;5;241m.\u001b[39mdrop(columns\u001b[38;5;241m=\u001b[39mdata\u001b[38;5;241m.\u001b[39mcolumns[data\u001b[38;5;241m.\u001b[39misna()\u001b[38;5;241m.\u001b[39msum() \u001b[38;5;241m==\u001b[39m \u001b[38;5;241m0\u001b[39m])\u001b[38;5;241m.\u001b[39mcolumns\n\u001b[1;32m      4\u001b[0m     \u001b[38;5;28;01mfor\u001b[39;00m null_feature \u001b[38;5;129;01min\u001b[39;00m null_feature_list:\n\u001b[1;32m      5\u001b[0m     \u001b[38;5;66;03m# the mean value for target feature if null feature is dropped\u001b[39;00m\n\u001b[1;32m      6\u001b[0m         current_mean \u001b[38;5;241m=\u001b[39m data[data[null_feature]\u001b[38;5;241m.\u001b[39misna()]\u001b[38;5;241m.\u001b[39mdescribe()[target_feature]\u001b[38;5;241m.\u001b[39mloc[\u001b[38;5;124m'\u001b[39m\u001b[38;5;124mmean\u001b[39m\u001b[38;5;124m'\u001b[39m]\n",
      "\u001b[0;31mNameError\u001b[0m: name 'data' is not defined"
     ]
    }
   ],
   "source": [
    "null_dropped_mean_plot('Distance to Nearest City (km)')"
   ]
  },
  {
   "cell_type": "code",
   "execution_count": 21,
   "metadata": {},
   "outputs": [
    {
     "ename": "NameError",
     "evalue": "name 'data' is not defined",
     "output_type": "error",
     "traceback": [
      "\u001b[0;31m---------------------------------------------------------------------------\u001b[0m",
      "\u001b[0;31mNameError\u001b[0m                                 Traceback (most recent call last)",
      "Cell \u001b[0;32mIn[21], line 2\u001b[0m\n\u001b[1;32m      1\u001b[0m plt\u001b[38;5;241m.\u001b[39mfigure(figsize\u001b[38;5;241m=\u001b[39m(\u001b[38;5;241m40\u001b[39m,\u001b[38;5;241m40\u001b[39m))\n\u001b[0;32m----> 2\u001b[0m position \u001b[38;5;241m=\u001b[39mnp\u001b[38;5;241m.\u001b[39marange(\u001b[38;5;28mlen\u001b[39m(\u001b[43mdata\u001b[49m\u001b[38;5;241m.\u001b[39mdescribe()\u001b[38;5;241m.\u001b[39mloc[\u001b[38;5;124m'\u001b[39m\u001b[38;5;124mmean\u001b[39m\u001b[38;5;124m'\u001b[39m]\u001b[38;5;241m.\u001b[39mdrop(\u001b[38;5;124m'\u001b[39m\u001b[38;5;124mVolume (m3)\u001b[39m\u001b[38;5;124m'\u001b[39m)))\n\u001b[1;32m      3\u001b[0m width \u001b[38;5;241m=\u001b[39m \u001b[38;5;241m0.3\u001b[39m\n\u001b[1;32m      4\u001b[0m plt\u001b[38;5;241m.\u001b[39mbar(x\u001b[38;5;241m=\u001b[39mposition \u001b[38;5;241m-\u001b[39m width\u001b[38;5;241m/\u001b[39m\u001b[38;5;241m2\u001b[39m, \n\u001b[1;32m      5\u001b[0m         height\u001b[38;5;241m=\u001b[39m\u001b[38;5;28mlist\u001b[39m(data\u001b[38;5;241m.\u001b[39mdescribe()\u001b[38;5;241m.\u001b[39mloc[\u001b[38;5;124m'\u001b[39m\u001b[38;5;124mmean\u001b[39m\u001b[38;5;124m'\u001b[39m]\u001b[38;5;241m.\u001b[39mdrop(\u001b[38;5;124m'\u001b[39m\u001b[38;5;124mVolume (m3)\u001b[39m\u001b[38;5;124m'\u001b[39m)), \n\u001b[1;32m      6\u001b[0m         align\u001b[38;5;241m=\u001b[39m\u001b[38;5;124m'\u001b[39m\u001b[38;5;124mcenter\u001b[39m\u001b[38;5;124m'\u001b[39m,\n\u001b[1;32m      7\u001b[0m         width\u001b[38;5;241m=\u001b[39mwidth)\n",
      "\u001b[0;31mNameError\u001b[0m: name 'data' is not defined"
     ]
    },
    {
     "data": {
      "text/plain": [
       "<Figure size 4000x4000 with 0 Axes>"
      ]
     },
     "metadata": {},
     "output_type": "display_data"
    }
   ],
   "source": [
    "plt.figure(figsize=(40,40))\n",
    "position =np.arange(len(data.describe().loc['mean'].drop('Volume (m3)')))\n",
    "width = 0.3\n",
    "plt.bar(x=position - width/2, \n",
    "        height=list(data.describe().loc['mean'].drop('Volume (m3)')), \n",
    "        align='center',\n",
    "        width=width)\n",
    "plt.bar(x=position + width/2, \n",
    "        height=list(data[data['Volume (m3)'].isna()].describe().loc['mean'].drop('Volume (m3)')), \n",
    "        align='edge',\n",
    "        width=width)\n",
    "\n",
    "plt.xticks(ticks=position, labels=list(data.describe().loc['mean'].drop('Volume (m3)').index))\n",
    "plt.xlabel('Features')\n",
    "plt.ylabel('Mean')\n",
    "plt.legend(['Full Dataset', 'Null Dataset'])"
   ]
  },
  {
   "cell_type": "code",
   "execution_count": null,
   "metadata": {},
   "outputs": [],
   "source": []
  },
  {
   "cell_type": "code",
   "execution_count": 22,
   "metadata": {},
   "outputs": [],
   "source": [
    "feature = 'length'\n",
    "Q1 = renamed_df[feature].quantile(0.25)\n",
    "Q3 = renamed_df[feature].quantile(0.75)\n",
    "IQR = Q3-Q1\n",
    "lower = Q1-1.5*IQR\n",
    "upper = Q3+1.5*IQR\n"
   ]
  },
  {
   "cell_type": "code",
   "execution_count": 23,
   "metadata": {},
   "outputs": [],
   "source": [
    "outlier_df = renamed_df[(renamed_df[feature] < lower) | (renamed_df[feature] > upper)]\n",
    "normal_df = renamed_df[(renamed_df[feature] >= lower) & (renamed_df[feature] <= upper)]"
   ]
  },
  {
   "cell_type": "code",
   "execution_count": 24,
   "metadata": {},
   "outputs": [],
   "source": [
    "comparison_df = pd.DataFrame([outlier_df['volume'].describe(), normal_df['volume'].describe()])"
   ]
  },
  {
   "cell_type": "code",
   "execution_count": 27,
   "metadata": {},
   "outputs": [
    {
     "data": {
      "text/html": [
       "<div>\n",
       "<style scoped>\n",
       "    .dataframe tbody tr th:only-of-type {\n",
       "        vertical-align: middle;\n",
       "    }\n",
       "\n",
       "    .dataframe tbody tr th {\n",
       "        vertical-align: top;\n",
       "    }\n",
       "\n",
       "    .dataframe thead th {\n",
       "        text-align: right;\n",
       "    }\n",
       "</style>\n",
       "<table border=\"1\" class=\"dataframe\">\n",
       "  <thead>\n",
       "    <tr style=\"text-align: right;\">\n",
       "      <th></th>\n",
       "      <th>count</th>\n",
       "      <th>mean</th>\n",
       "      <th>std</th>\n",
       "      <th>min</th>\n",
       "      <th>25%</th>\n",
       "      <th>50%</th>\n",
       "      <th>75%</th>\n",
       "      <th>max</th>\n",
       "    </tr>\n",
       "  </thead>\n",
       "  <tbody>\n",
       "    <tr>\n",
       "      <th>volume</th>\n",
       "      <td>912.0</td>\n",
       "      <td>1.605949e+06</td>\n",
       "      <td>7.618464e+06</td>\n",
       "      <td>0.0</td>\n",
       "      <td>72395.0</td>\n",
       "      <td>149570.0</td>\n",
       "      <td>387048.0</td>\n",
       "      <td>125628000.0</td>\n",
       "    </tr>\n",
       "    <tr>\n",
       "      <th>volume</th>\n",
       "      <td>7661.0</td>\n",
       "      <td>1.156499e+05</td>\n",
       "      <td>9.268996e+05</td>\n",
       "      <td>0.0</td>\n",
       "      <td>11200.0</td>\n",
       "      <td>23860.0</td>\n",
       "      <td>66124.0</td>\n",
       "      <td>66300000.0</td>\n",
       "    </tr>\n",
       "  </tbody>\n",
       "</table>\n",
       "</div>"
      ],
      "text/plain": [
       "         count          mean           std  min      25%       50%       75%  \\\n",
       "volume   912.0  1.605949e+06  7.618464e+06  0.0  72395.0  149570.0  387048.0   \n",
       "volume  7661.0  1.156499e+05  9.268996e+05  0.0  11200.0   23860.0   66124.0   \n",
       "\n",
       "                max  \n",
       "volume  125628000.0  \n",
       "volume   66300000.0  "
      ]
     },
     "execution_count": 27,
     "metadata": {},
     "output_type": "execute_result"
    }
   ],
   "source": [
    "comparison_df"
   ]
  },
  {
   "cell_type": "code",
   "execution_count": 28,
   "metadata": {},
   "outputs": [
    {
     "data": {
      "text/html": [
       "<div>\n",
       "<style scoped>\n",
       "    .dataframe tbody tr th:only-of-type {\n",
       "        vertical-align: middle;\n",
       "    }\n",
       "\n",
       "    .dataframe tbody tr th {\n",
       "        vertical-align: top;\n",
       "    }\n",
       "\n",
       "    .dataframe thead th {\n",
       "        text-align: right;\n",
       "    }\n",
       "</style>\n",
       "<table border=\"1\" class=\"dataframe\">\n",
       "  <thead>\n",
       "    <tr style=\"text-align: right;\">\n",
       "      <th></th>\n",
       "      <th>count</th>\n",
       "      <th>mean</th>\n",
       "      <th>std</th>\n",
       "      <th>min</th>\n",
       "      <th>25%</th>\n",
       "      <th>50%</th>\n",
       "      <th>75%</th>\n",
       "    </tr>\n",
       "  </thead>\n",
       "  <tbody>\n",
       "    <tr>\n",
       "      <th>volume</th>\n",
       "      <td>912.0</td>\n",
       "      <td>1.605949e+06</td>\n",
       "      <td>7.618464e+06</td>\n",
       "      <td>0.0</td>\n",
       "      <td>72395.0</td>\n",
       "      <td>149570.0</td>\n",
       "      <td>387048.0</td>\n",
       "    </tr>\n",
       "    <tr>\n",
       "      <th>volume</th>\n",
       "      <td>7661.0</td>\n",
       "      <td>1.156499e+05</td>\n",
       "      <td>9.268996e+05</td>\n",
       "      <td>0.0</td>\n",
       "      <td>11200.0</td>\n",
       "      <td>23860.0</td>\n",
       "      <td>66124.0</td>\n",
       "    </tr>\n",
       "  </tbody>\n",
       "</table>\n",
       "</div>"
      ],
      "text/plain": [
       "         count          mean           std  min      25%       50%       75%\n",
       "volume   912.0  1.605949e+06  7.618464e+06  0.0  72395.0  149570.0  387048.0\n",
       "volume  7661.0  1.156499e+05  9.268996e+05  0.0  11200.0   23860.0   66124.0"
      ]
     },
     "execution_count": 28,
     "metadata": {},
     "output_type": "execute_result"
    }
   ],
   "source": [
    "comparison_df.drop(columns=['max'])"
   ]
  },
  {
   "cell_type": "code",
   "execution_count": 31,
   "metadata": {},
   "outputs": [
    {
     "data": {
      "text/plain": [
       "([<matplotlib.axis.XTick at 0x17ffa72b0>,\n",
       "  <matplotlib.axis.XTick at 0x17ffa7280>,\n",
       "  <matplotlib.axis.XTick at 0x17ffa7190>,\n",
       "  <matplotlib.axis.XTick at 0x17ffd0f70>,\n",
       "  <matplotlib.axis.XTick at 0x17ffd0af0>,\n",
       "  <matplotlib.axis.XTick at 0x17ffd20e0>,\n",
       "  <matplotlib.axis.XTick at 0x17ffd2b90>],\n",
       " [Text(0, 0, 'count'),\n",
       "  Text(1, 0, 'mean'),\n",
       "  Text(2, 0, 'std'),\n",
       "  Text(3, 0, 'min'),\n",
       "  Text(4, 0, '25%'),\n",
       "  Text(5, 0, '50%'),\n",
       "  Text(6, 0, '75%')])"
      ]
     },
     "execution_count": 31,
     "metadata": {},
     "output_type": "execute_result"
    },
    {
     "data": {
      "image/png": "[encoded data removed]",
      "text/plain": [
       "<Figure size 1000x800 with 1 Axes>"
      ]
     },
     "metadata": {},
     "output_type": "display_data"
    }
   ],
   "source": [
    "plt.figure(figsize=(10,8))\n",
    "position = np.array(range(7))\n",
    "width = 0.3\n",
    "position_1 = position - width\n",
    "position_2 = position + width\n",
    "plt.bar(x=position_1, width=width, height=comparison_df.drop(columns=['max']).iloc[0])\n",
    "plt.bar(x=position_2, width=width, height=comparison_df.drop(columns=['max']).iloc[1])\n",
    "plt.xticks(ticks=position, labels=comparison_df.columns[0:7])"
   ]
  },
  {
   "cell_type": "code",
   "execution_count": null,
   "metadata": {},
   "outputs": [],
   "source": []
  }
 ],
 "metadata": {
  "kernelspec": {
   "display_name": "pt_gpu",
   "language": "python",
   "name": "python3"
  },
  "language_info": {
   "codemirror_mode": {
    "name": "ipython",
    "version": 3
   },
   "file_extension": ".py",
   "mimetype": "text/x-python",
   "name": "python",
   "nbconvert_exporter": "python",
   "pygments_lexer": "ipython3",
   "version": "3.10.16"
  }
 },
 "nbformat": 4,
 "nbformat_minor": 2
}
