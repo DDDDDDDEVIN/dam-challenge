{
 "cells": [
  {
   "cell_type": "code",
   "execution_count": 15,
   "metadata": {},
   "outputs": [],
   "source": [
    "import pandas as pd\n",
    "import matplotlib.pyplot as plt"
   ]
  },
  {
   "cell_type": "code",
   "execution_count": 16,
   "metadata": {},
   "outputs": [],
   "source": [
    "df = pd.read_csv('../data/curated/visualisation_df.csv')"
   ]
  },
  {
   "cell_type": "code",
   "execution_count": 21,
   "metadata": {},
   "outputs": [],
   "source": [
    "df['id'] = df['id'].str.extract(r'[A-Z]{4}(\\d{5})')[0].astype(int)"
   ]
  },
  {
   "cell_type": "code",
   "execution_count": 24,
   "metadata": {},
   "outputs": [
    {
     "data": {
      "text/html": [
       "<div>\n",
       "<style scoped>\n",
       "    .dataframe tbody tr th:only-of-type {\n",
       "        vertical-align: middle;\n",
       "    }\n",
       "\n",
       "    .dataframe tbody tr th {\n",
       "        vertical-align: top;\n",
       "    }\n",
       "\n",
       "    .dataframe thead th {\n",
       "        text-align: right;\n",
       "    }\n",
       "</style>\n",
       "<table border=\"1\" class=\"dataframe\">\n",
       "  <thead>\n",
       "    <tr style=\"text-align: right;\">\n",
       "      <th></th>\n",
       "      <th>count</th>\n",
       "      <th>mean</th>\n",
       "      <th>std</th>\n",
       "      <th>min</th>\n",
       "      <th>25%</th>\n",
       "      <th>50%</th>\n",
       "      <th>75%</th>\n",
       "      <th>max</th>\n",
       "    </tr>\n",
       "    <tr>\n",
       "      <th>region</th>\n",
       "      <th></th>\n",
       "      <th></th>\n",
       "      <th></th>\n",
       "      <th></th>\n",
       "      <th></th>\n",
       "      <th></th>\n",
       "      <th></th>\n",
       "      <th></th>\n",
       "    </tr>\n",
       "  </thead>\n",
       "  <tbody>\n",
       "    <tr>\n",
       "      <th>Flumevale</th>\n",
       "      <td>3522.0</td>\n",
       "      <td>10381.719761</td>\n",
       "      <td>6002.515315</td>\n",
       "      <td>1.0</td>\n",
       "      <td>5204.50</td>\n",
       "      <td>10382.5</td>\n",
       "      <td>15597.75</td>\n",
       "      <td>20804.0</td>\n",
       "    </tr>\n",
       "    <tr>\n",
       "      <th>Lyndrassia</th>\n",
       "      <td>8406.0</td>\n",
       "      <td>10497.055318</td>\n",
       "      <td>5967.619870</td>\n",
       "      <td>4.0</td>\n",
       "      <td>5339.75</td>\n",
       "      <td>10565.5</td>\n",
       "      <td>15615.50</td>\n",
       "      <td>20806.0</td>\n",
       "    </tr>\n",
       "    <tr>\n",
       "      <th>Navaldia</th>\n",
       "      <td>8878.0</td>\n",
       "      <td>10323.559022</td>\n",
       "      <td>6043.673862</td>\n",
       "      <td>2.0</td>\n",
       "      <td>5068.25</td>\n",
       "      <td>10220.5</td>\n",
       "      <td>15597.50</td>\n",
       "      <td>20802.0</td>\n",
       "    </tr>\n",
       "  </tbody>\n",
       "</table>\n",
       "</div>"
      ],
      "text/plain": [
       "             count          mean          std  min      25%      50%  \\\n",
       "region                                                                 \n",
       "Flumevale   3522.0  10381.719761  6002.515315  1.0  5204.50  10382.5   \n",
       "Lyndrassia  8406.0  10497.055318  5967.619870  4.0  5339.75  10565.5   \n",
       "Navaldia    8878.0  10323.559022  6043.673862  2.0  5068.25  10220.5   \n",
       "\n",
       "                 75%      max  \n",
       "region                         \n",
       "Flumevale   15597.75  20804.0  \n",
       "Lyndrassia  15615.50  20806.0  \n",
       "Navaldia    15597.50  20802.0  "
      ]
     },
     "execution_count": 24,
     "metadata": {},
     "output_type": "execute_result"
    }
   ],
   "source": [
    "df.groupby('region')['id'].describe()"
   ]
  },
  {
   "cell_type": "code",
   "execution_count": null,
   "metadata": {},
   "outputs": [],
   "source": []
  }
 ],
 "metadata": {
  "kernelspec": {
   "display_name": "pt_gpu",
   "language": "python",
   "name": "python3"
  },
  "language_info": {
   "codemirror_mode": {
    "name": "ipython",
    "version": 3
   },
   "file_extension": ".py",
   "mimetype": "text/x-python",
   "name": "python",
   "nbconvert_exporter": "python",
   "pygments_lexer": "ipython3",
   "version": "3.10.16"
  }
 },
 "nbformat": 4,
 "nbformat_minor": 2
}
