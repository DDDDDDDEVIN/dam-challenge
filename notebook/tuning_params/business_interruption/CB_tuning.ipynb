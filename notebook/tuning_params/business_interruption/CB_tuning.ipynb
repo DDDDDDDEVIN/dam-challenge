{
 "cells": [
  {
   "cell_type": "code",
   "execution_count": 1,
   "metadata": {},
   "outputs": [],
   "source": [
    "import pandas as pd\n",
    "import catboost as cb\n",
    "import sys\n",
    "import warnings"
   ]
  },
  {
   "cell_type": "code",
   "execution_count": 2,
   "metadata": {},
   "outputs": [],
   "source": [
    "warnings.filterwarnings('ignore')"
   ]
  },
  {
   "cell_type": "code",
   "execution_count": 3,
   "metadata": {},
   "outputs": [],
   "source": [
    "train_X = pd.read_csv('../../../data/curated/business_interruption/train_X.csv')\n",
    "train_Y = pd.read_csv('../../../data/curated/business_interruption/train_Y.csv')\n",
    "val_X = pd.read_csv('../../../data/curated/business_interruption/val_X.csv')\n",
    "val_Y = pd.read_csv('../../../data/curated/business_interruption/val_Y.csv')\n",
    "test_X = pd.read_csv('../../../data/curated/business_interruption/test_X.csv')\n",
    "test_Y = pd.read_csv('../../../data/curated/business_interruption/test_Y.csv')"
   ]
  },
  {
   "cell_type": "code",
   "execution_count": 4,
   "metadata": {},
   "outputs": [],
   "source": [
    "sys.path.append('../../../privatePackage')"
   ]
  },
  {
   "cell_type": "code",
   "execution_count": 5,
   "metadata": {},
   "outputs": [],
   "source": [
    "tunable_parameters = {\n",
    "    'learning_rate': (0.01, 0.05, 0.1),\n",
    "    'iterations': (500, 2000, 4000, 8000),\n",
    "    'depth': (4, 8, 12),\n",
    "    'l2_leaf_reg': (2, 4, 8),\n",
    "    'random_strength': (2, 4, 8)\n",
    "}\n",
    "non_tunable_parameters = {\n",
    "    'random_state':42\n",
    "}"
   ]
  },
  {
   "cell_type": "code",
   "execution_count": 6,
   "metadata": {},
   "outputs": [],
   "source": [
    "from DevinMengTuner import DevinMengTuner"
   ]
  },
  {
   "cell_type": "code",
   "execution_count": null,
   "metadata": {},
   "outputs": [],
   "source": [
    "model = cb.CatBoostRegressor(task_type='GPU', devices='0', verbose=0)"
   ]
  },
  {
   "cell_type": "code",
   "execution_count": null,
   "metadata": {},
   "outputs": [
    {
     "data": {
      "text/html": [
       "<div>\n",
       "<style scoped>\n",
       "    .dataframe tbody tr th:only-of-type {\n",
       "        vertical-align: middle;\n",
       "    }\n",
       "\n",
       "    .dataframe tbody tr th {\n",
       "        vertical-align: top;\n",
       "    }\n",
       "\n",
       "    .dataframe thead th {\n",
       "        text-align: right;\n",
       "    }\n",
       "</style>\n",
       "<table border=\"1\" class=\"dataframe\">\n",
       "  <thead>\n",
       "    <tr style=\"text-align: right;\">\n",
       "      <th></th>\n",
       "      <th>business_interruption_loss</th>\n",
       "    </tr>\n",
       "  </thead>\n",
       "  <tbody>\n",
       "    <tr>\n",
       "      <th>0</th>\n",
       "      <td>93.1</td>\n",
       "    </tr>\n",
       "    <tr>\n",
       "      <th>1</th>\n",
       "      <td>30.6</td>\n",
       "    </tr>\n",
       "    <tr>\n",
       "      <th>2</th>\n",
       "      <td>30.6</td>\n",
       "    </tr>\n",
       "    <tr>\n",
       "      <th>3</th>\n",
       "      <td>35.7</td>\n",
       "    </tr>\n",
       "    <tr>\n",
       "      <th>4</th>\n",
       "      <td>3.7</td>\n",
       "    </tr>\n",
       "    <tr>\n",
       "      <th>...</th>\n",
       "      <td>...</td>\n",
       "    </tr>\n",
       "    <tr>\n",
       "      <th>8055</th>\n",
       "      <td>8.4</td>\n",
       "    </tr>\n",
       "    <tr>\n",
       "      <th>8056</th>\n",
       "      <td>4.9</td>\n",
       "    </tr>\n",
       "    <tr>\n",
       "      <th>8057</th>\n",
       "      <td>69.3</td>\n",
       "    </tr>\n",
       "    <tr>\n",
       "      <th>8058</th>\n",
       "      <td>4.5</td>\n",
       "    </tr>\n",
       "    <tr>\n",
       "      <th>8059</th>\n",
       "      <td>33.2</td>\n",
       "    </tr>\n",
       "  </tbody>\n",
       "</table>\n",
       "<p>8060 rows × 1 columns</p>\n",
       "</div>"
      ],
      "text/plain": [
       "      business_interruption_loss\n",
       "0                           93.1\n",
       "1                           30.6\n",
       "2                           30.6\n",
       "3                           35.7\n",
       "4                            3.7\n",
       "...                          ...\n",
       "8055                         8.4\n",
       "8056                         4.9\n",
       "8057                        69.3\n",
       "8058                         4.5\n",
       "8059                        33.2\n",
       "\n",
       "[8060 rows x 1 columns]"
      ]
     },
     "execution_count": 8,
     "metadata": {},
     "output_type": "execute_result"
    },
    {
     "ename": "",
     "evalue": "",
     "output_type": "error",
     "traceback": [
      "\u001b[1;31mThe Kernel crashed while executing code in the current cell or a previous cell. \n",
      "\u001b[1;31mPlease review the code in the cell(s) to identify a possible cause of the failure. \n",
      "\u001b[1;31mClick <a href='https://aka.ms/vscodeJupyterKernelCrash'>here</a> for more info. \n",
      "\u001b[1;31mView Jupyter <a href='command:jupyter.viewOutput'>log</a> for further details."
     ]
    }
   ],
   "source": [
    "train_Y"
   ]
  },
  {
   "cell_type": "code",
   "execution_count": null,
   "metadata": {},
   "outputs": [
    {
     "name": "stdout",
     "output_type": "stream",
     "text": [
      "DevinMengTuner initialised\n",
      "dir already exist\n",
      "Fit succeed.\n",
      "Current Parameter Combination:\n",
      "learning_rate: 0.01; iterations: 500; depth: 12; l2_leaf_reg: 4; random_strength: 8; \n",
      "\n",
      "Current Performance Metrics:\n",
      "R-Squared: 0.6392714650426541; Root Mean Squared Error: 12.081711464737358; \n",
      "\n",
      "Best Performance Metrics:\n",
      "R-Squared: 0.6497239589687577; Root Mean Squared Error: 11.905384524142432; \n",
      "Already tuned 24 out of 324 in total\n",
      "Progress: 7.41%\n",
      "----------------------------\n"
     ]
    }
   ],
   "source": [
    "tuner = DevinMengTuner()\n",
    "tuner.set_data(train_X=train_X, train_Y=train_Y, test_X=val_X, test_Y=val_Y)\n",
    "tuner.set_model(model=model, model_name='CB', model_type='Regression')\n",
    "tuner.set_parameters(tunable_parameters=tunable_parameters, non_tunable_parameters=non_tunable_parameters)\n",
    "tuner.tune()"
   ]
  },
  {
   "cell_type": "code",
   "execution_count": null,
   "metadata": {},
   "outputs": [],
   "source": []
  }
 ],
 "metadata": {
  "kernelspec": {
   "display_name": "pt_gpu",
   "language": "python",
   "name": "python3"
  },
  "language_info": {
   "codemirror_mode": {
    "name": "ipython",
    "version": 3
   },
   "file_extension": ".py",
   "mimetype": "text/x-python",
   "name": "python",
   "nbconvert_exporter": "python",
   "pygments_lexer": "ipython3",
   "version": "3.10.16"
  }
 },
 "nbformat": 4,
 "nbformat_minor": 2
}
